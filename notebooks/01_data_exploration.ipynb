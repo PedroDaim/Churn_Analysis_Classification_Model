{
 "cells": [
  {
   "cell_type": "code",
   "execution_count": 5,
   "id": "d607d08f",
   "metadata": {},
   "outputs": [],
   "source": [
    "#Import necessary libraries for data exploration and visualization\n",
    "import pandas as pd \n",
    "import numpy as np\n",
    "import matplotlib.pyplot as plt \n",
    "import seaborn as sns\n",
    "import sys\n",
    "import os\n",
    "sys.path.insert(0, os.path.abspath(os.path.join(os.path.dirname(os.path.abspath('')), 'src', '..')))\n",
    "from src.utils import ingest_csv_to_dataframe"
   ]
  },
  {
   "cell_type": "code",
   "execution_count": null,
   "id": "b964306c",
   "metadata": {},
   "outputs": [
    {
     "name": "stdout",
     "output_type": "stream",
     "text": [
      "Successfully ingested data from: https://raw.githubusercontent.com/PedroDaim/Churn_Analysis_Classification_Model/refs/heads/main/data/WA_Fn-UseC_-Telco-Customer-Churn.csv\n"
     ]
    }
   ],
   "source": [
    "# Ingest the CSV file into a DataFrame\n",
    "# The URL points to a CSV file containing customer churn data\n",
    "churn_df = ingest_csv_to_dataframe('https://raw.githubusercontent.com/PedroDaim/Churn_Analysis_Classification_Model/refs/heads/main/data/WA_Fn-UseC_-Telco-Customer-Churn.csv')"
   ]
  }
 ],
 "metadata": {
  "kernelspec": {
   "display_name": "Python 3",
   "language": "python",
   "name": "python3"
  },
  "language_info": {
   "codemirror_mode": {
    "name": "ipython",
    "version": 3
   },
   "file_extension": ".py",
   "mimetype": "text/x-python",
   "name": "python",
   "nbconvert_exporter": "python",
   "pygments_lexer": "ipython3",
   "version": "3.13.3"
  }
 },
 "nbformat": 4,
 "nbformat_minor": 5
}
